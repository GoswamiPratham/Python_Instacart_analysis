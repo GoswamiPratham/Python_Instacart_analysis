{
 "cells": [
  {
   "cell_type": "markdown",
   "id": "3c5133e4",
   "metadata": {},
   "source": [
    "# 0.1 Importing Data Libraries"
   ]
  },
  {
   "cell_type": "code",
   "execution_count": 2,
   "id": "3b905c63",
   "metadata": {},
   "outputs": [],
   "source": [
    "# Import libraries\n",
    "import pandas as pd\n",
    "import numpy as np\n",
    "import os"
   ]
  },
  {
   "cell_type": "markdown",
   "id": "d18ab48c",
   "metadata": {},
   "source": [
    "# Python Data Types"
   ]
  },
  {
   "cell_type": "markdown",
   "id": "351b554f",
   "metadata": {},
   "source": [
    " 3 Different ways of reaching 100 "
   ]
  },
  {
   "cell_type": "code",
   "execution_count": 6,
   "id": "e8ce386b",
   "metadata": {},
   "outputs": [
    {
     "data": {
      "text/plain": [
       "100"
      ]
     },
     "execution_count": 6,
     "metadata": {},
     "output_type": "execute_result"
    }
   ],
   "source": [
    "x=50\n",
    "x+x"
   ]
  },
  {
   "cell_type": "code",
   "execution_count": 7,
   "id": "45911f4c",
   "metadata": {},
   "outputs": [
    {
     "data": {
      "text/plain": [
       "100"
      ]
     },
     "execution_count": 7,
     "metadata": {},
     "output_type": "execute_result"
    }
   ],
   "source": [
    "x=25\n",
    "x*4"
   ]
  },
  {
   "cell_type": "code",
   "execution_count": 8,
   "id": "c7c6b34a",
   "metadata": {},
   "outputs": [
    {
     "data": {
      "text/plain": [
       "100"
      ]
     },
     "execution_count": 8,
     "metadata": {},
     "output_type": "execute_result"
    }
   ],
   "source": [
    "x=122\n",
    "x-22"
   ]
  },
  {
   "cell_type": "markdown",
   "id": "c76762ee",
   "metadata": {},
   "source": [
    "2 Floating piont variables devided by eachother "
   ]
  },
  {
   "cell_type": "code",
   "execution_count": 9,
   "id": "a1a509da",
   "metadata": {},
   "outputs": [
    {
     "data": {
      "text/plain": [
       "1.0"
      ]
     },
     "execution_count": 9,
     "metadata": {},
     "output_type": "execute_result"
    }
   ],
   "source": [
    "n=4.78\n",
    "k=4.78\n",
    "n/k"
   ]
  },
  {
   "cell_type": "markdown",
   "id": "6f351deb",
   "metadata": {},
   "source": [
    "Short word of strings"
   ]
  },
  {
   "cell_type": "code",
   "execution_count": 15,
   "id": "62f108f4",
   "metadata": {},
   "outputs": [
    {
     "data": {
      "text/plain": [
       "'baking'"
      ]
     },
     "execution_count": 15,
     "metadata": {},
     "output_type": "execute_result"
    }
   ],
   "source": [
    "a=\"bak\"\n",
    "b=\"ing\"\n",
    "a+b"
   ]
  },
  {
   "cell_type": "markdown",
   "id": "cfbf3f91",
   "metadata": {},
   "source": [
    "2 sentences made of seperate strings"
   ]
  },
  {
   "cell_type": "code",
   "execution_count": 14,
   "id": "0c2e88b5",
   "metadata": {},
   "outputs": [
    {
     "data": {
      "text/plain": [
       "'genocide is bad.'"
      ]
     },
     "execution_count": 14,
     "metadata": {},
     "output_type": "execute_result"
    }
   ],
   "source": [
    "a=\"genocide \"\n",
    "b=\"is \"\n",
    "c=\"bad.\"\n",
    "a+ b+ c"
   ]
  },
  {
   "cell_type": "code",
   "execution_count": 16,
   "id": "d58e7d8a",
   "metadata": {},
   "outputs": [
    {
     "data": {
      "text/plain": [
       "'the fight of cancer is hard on families.'"
      ]
     },
     "execution_count": 16,
     "metadata": {},
     "output_type": "execute_result"
    }
   ],
   "source": [
    "a=\"the \" \n",
    "b=\"fight \" \n",
    "c=\"of cancer \"\n",
    "d=\"is hard\"\n",
    "e=\" on families.\"\n",
    "a+b+c+d+e"
   ]
  },
  {
   "cell_type": "code",
   "execution_count": null,
   "id": "133ef4f8",
   "metadata": {},
   "outputs": [],
   "source": []
  }
 ],
 "metadata": {
  "kernelspec": {
   "display_name": "Python 3 (ipykernel)",
   "language": "python",
   "name": "python3"
  },
  "language_info": {
   "codemirror_mode": {
    "name": "ipython",
    "version": 3
   },
   "file_extension": ".py",
   "mimetype": "text/x-python",
   "name": "python",
   "nbconvert_exporter": "python",
   "pygments_lexer": "ipython3",
   "version": "3.11.5"
  }
 },
 "nbformat": 4,
 "nbformat_minor": 5
}
